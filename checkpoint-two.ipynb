{
    "metadata": {
        "kernelspec": {
            "name": "python3",
            "display_name": "Python 3 (ipykernel)",
            "language": "python"
        },
        "language_info": {
            "name": "python",
            "version": "3.9.12",
            "mimetype": "text/x-python",
            "codemirror_mode": {
                "name": "ipython",
                "version": 3
            },
            "pygments_lexer": "ipython3",
            "nbconvert_exporter": "python",
            "file_extension": ".py"
        }
    },
    "nbformat_minor": 2,
    "nbformat": 4,
    "cells": [
        {
            "cell_type": "markdown",
            "source": [
                "# Checkpoint Two: Exploratory Data Analysis\n",
                "\n",
                "Now that your chosen dataset is approved, it is time to start working on your analysis. Use this notebook to perform your EDA and make notes where directed to as you work.\n",
                "\n",
                "## Getting Started\n",
                "\n",
                "Since we have not provided your dataset for you, you will need to load the necessary files in this repository. Make sure to include a link back to the original dataset here as well.\n",
                "\n",
                "## My Dataset\n",
                "\n",
                "The data set that I'm using is from Rebrickable.com (https://rebrickable.com/downloads/).  There are files with the following data: \n",
                "\n",
                "Themes, Colors, Parts (Categories), Parts, Parts (Relationships), Elements, Sets, Minifigures, Inventories, Inventory (Parts), Inventory (Sets), and Inventory (Minifigs).  It also has a feature that allows you to select the sets you have and create a file based on that, which I have uploaded.  \n",
                "\n",
                "Your first task in EDA is to import necessary libraries and create a dataframe(s). Make note in the form of code comments of what your thought process is as you work on this setup task."
            ],
            "metadata": {
                "azdata_cell_guid": "151601c9-ca7a-412e-af80-c62a87e0837e"
            },
            "attachments": {}
        },
        {
            "cell_type": "code",
            "source": [
                "import pandas as pd\n",
                "import numpy as np \n",
                "import matplotlib.pyplot as plt \n",
                ""
            ],
            "metadata": {
                "azdata_cell_guid": "7b503e37-6df5-4433-acfb-678b1346db14",
                "language": "python"
            },
            "outputs": [],
            "execution_count": 105
        },
        {
            "cell_type": "code",
            "source": [
                "our_sets = pd.read_csv(\"rebrickable_sets_aarich47.csv\")\n",
                "colors = pd.read_csv(\"colors.csv\")\n",
                "elements = pd.read_csv(\"elements.csv\")\n",
                "inventories = pd.read_csv(\"inventories.csv\")\n",
                "inv_mf = pd.read_csv(\"inventory_minifigs.csv\")\n",
                "inv_p = pd.read_csv(\"inventory_parts.csv\")\n",
                "inv_sets = pd.read_csv(\"inventory_sets.csv\")\n",
                "mf = pd.read_csv(\"minifigs.csv\")\n",
                "part_cat = pd.read_csv(\"part_categories.csv\")\n",
                "part_rel = pd.read_csv(\"part_relationships.csv\")\n",
                "parts = pd.read_csv(\"parts.csv\")\n",
                "sets = pd.read_csv(\"sets.csv\")\n",
                "themes = pd.read_csv(\"themes.csv\")\n",
                "\n",
                "our_sets.head(5)"
            ],
            "metadata": {
                "azdata_cell_guid": "8a9c6647-53cf-4841-89a9-ca074950322e",
                "language": "python"
            },
            "outputs": [
                {
                    "data": {
                        "text/plain": "  Set Number  Quantity\n0    10698-1         1\n1    60002-1         1\n2    41062-1         1\n3    60134-1         1\n4    41094-1         1",
                        "text/html": "<div>\n<style scoped>\n    .dataframe tbody tr th:only-of-type {\n        vertical-align: middle;\n    }\n\n    .dataframe tbody tr th {\n        vertical-align: top;\n    }\n\n    .dataframe thead th {\n        text-align: right;\n    }\n</style>\n<table border=\"1\" class=\"dataframe\">\n  <thead>\n    <tr style=\"text-align: right;\">\n      <th></th>\n      <th>Set Number</th>\n      <th>Quantity</th>\n    </tr>\n  </thead>\n  <tbody>\n    <tr>\n      <th>0</th>\n      <td>10698-1</td>\n      <td>1</td>\n    </tr>\n    <tr>\n      <th>1</th>\n      <td>60002-1</td>\n      <td>1</td>\n    </tr>\n    <tr>\n      <th>2</th>\n      <td>41062-1</td>\n      <td>1</td>\n    </tr>\n    <tr>\n      <th>3</th>\n      <td>60134-1</td>\n      <td>1</td>\n    </tr>\n    <tr>\n      <th>4</th>\n      <td>41094-1</td>\n      <td>1</td>\n    </tr>\n  </tbody>\n</table>\n</div>"
                    },
                    "metadata": {},
                    "execution_count": 106,
                    "output_type": "execute_result"
                }
            ],
            "execution_count": 106
        },
        {
            "cell_type": "code",
            "source": [
                "sets.describe()"
            ],
            "metadata": {
                "azdata_cell_guid": "014056c5-787e-410c-b783-b2db95980f30",
                "language": "python"
            },
            "outputs": [
                {
                    "data": {
                        "text/plain": "               year      theme_id     num_parts\ncount  20497.000000  20497.000000  20497.000000\nmean    2007.114846    434.918671    160.052544\nstd       13.945181    216.708335    408.475176\nmin     1949.000000      1.000000      0.000000\n25%     2001.000000    254.000000      4.000000\n50%     2011.000000    494.000000     33.000000\n75%     2018.000000    604.000000    142.000000\nmax     2023.000000    743.000000  11695.000000",
                        "text/html": "<div>\n<style scoped>\n    .dataframe tbody tr th:only-of-type {\n        vertical-align: middle;\n    }\n\n    .dataframe tbody tr th {\n        vertical-align: top;\n    }\n\n    .dataframe thead th {\n        text-align: right;\n    }\n</style>\n<table border=\"1\" class=\"dataframe\">\n  <thead>\n    <tr style=\"text-align: right;\">\n      <th></th>\n      <th>year</th>\n      <th>theme_id</th>\n      <th>num_parts</th>\n    </tr>\n  </thead>\n  <tbody>\n    <tr>\n      <th>count</th>\n      <td>20497.000000</td>\n      <td>20497.000000</td>\n      <td>20497.000000</td>\n    </tr>\n    <tr>\n      <th>mean</th>\n      <td>2007.114846</td>\n      <td>434.918671</td>\n      <td>160.052544</td>\n    </tr>\n    <tr>\n      <th>std</th>\n      <td>13.945181</td>\n      <td>216.708335</td>\n      <td>408.475176</td>\n    </tr>\n    <tr>\n      <th>min</th>\n      <td>1949.000000</td>\n      <td>1.000000</td>\n      <td>0.000000</td>\n    </tr>\n    <tr>\n      <th>25%</th>\n      <td>2001.000000</td>\n      <td>254.000000</td>\n      <td>4.000000</td>\n    </tr>\n    <tr>\n      <th>50%</th>\n      <td>2011.000000</td>\n      <td>494.000000</td>\n      <td>33.000000</td>\n    </tr>\n    <tr>\n      <th>75%</th>\n      <td>2018.000000</td>\n      <td>604.000000</td>\n      <td>142.000000</td>\n    </tr>\n    <tr>\n      <th>max</th>\n      <td>2023.000000</td>\n      <td>743.000000</td>\n      <td>11695.000000</td>\n    </tr>\n  </tbody>\n</table>\n</div>"
                    },
                    "metadata": {},
                    "execution_count": 107,
                    "output_type": "execute_result"
                }
            ],
            "execution_count": 107
        },
        {
            "cell_type": "code",
            "source": [
                "#Joining data from Rebrickable sets to only have our listed sets' information. \n",
                "set_names = our_sets.join(sets.set_index('set_num'), on='Set Number')\n",
                "set_names"
            ],
            "metadata": {
                "azdata_cell_guid": "43243b2d-f830-451f-af01-86bbaf310492",
                "language": "python",
                "tags": []
            },
            "outputs": [
                {
                    "data": {
                        "text/plain": "   Set Number  Quantity                                               name  \\\n0     10698-1         1                           Large Creative Brick Box   \n1     60002-1         1                                         Fire Truck   \n2     41062-1         1                        Elsa's Sparkling Ice Castle   \n3     60134-1         1                      People Pack - Fun in the Park   \n4     41094-1         1                               Heartlake Lighthouse   \n..        ...       ...                                                ...   \n59    76389-1         1                        Hogwarts Chamber Of Secrets   \n60    10293-1         1                                      Santa's Visit   \n61    76397-1         1  Hogwarts Moment: Defence Against the Dark Arts...   \n62    76408-1         1                                 12 Grimmauld Place   \n63    76406-1         1                          Hungarian Horntail Dragon   \n\n    year  theme_id  num_parts  \\\n0   2015       621        790   \n1   2013        58        209   \n2   2015       687        292   \n3   2016        52        159   \n4   2015       494        475   \n..   ...       ...        ...   \n59  2021       246       1172   \n60  2021       227       1445   \n61  2022       246        257   \n62  2022       246       1086   \n63  2022       246        671   \n\n                                              img_url  \n0   https://cdn.rebrickable.com/media/sets/10698-1...  \n1   https://cdn.rebrickable.com/media/sets/60002-1...  \n2   https://cdn.rebrickable.com/media/sets/41062-1...  \n3   https://cdn.rebrickable.com/media/sets/60134-1...  \n4   https://cdn.rebrickable.com/media/sets/41094-1...  \n..                                                ...  \n59  https://cdn.rebrickable.com/media/sets/76389-1...  \n60  https://cdn.rebrickable.com/media/sets/10293-1...  \n61  https://cdn.rebrickable.com/media/sets/76397-1...  \n62  https://cdn.rebrickable.com/media/sets/76408-1...  \n63  https://cdn.rebrickable.com/media/sets/76406-1...  \n\n[64 rows x 7 columns]",
                        "text/html": "<div>\n<style scoped>\n    .dataframe tbody tr th:only-of-type {\n        vertical-align: middle;\n    }\n\n    .dataframe tbody tr th {\n        vertical-align: top;\n    }\n\n    .dataframe thead th {\n        text-align: right;\n    }\n</style>\n<table border=\"1\" class=\"dataframe\">\n  <thead>\n    <tr style=\"text-align: right;\">\n      <th></th>\n      <th>Set Number</th>\n      <th>Quantity</th>\n      <th>name</th>\n      <th>year</th>\n      <th>theme_id</th>\n      <th>num_parts</th>\n      <th>img_url</th>\n    </tr>\n  </thead>\n  <tbody>\n    <tr>\n      <th>0</th>\n      <td>10698-1</td>\n      <td>1</td>\n      <td>Large Creative Brick Box</td>\n      <td>2015</td>\n      <td>621</td>\n      <td>790</td>\n      <td>https://cdn.rebrickable.com/media/sets/10698-1...</td>\n    </tr>\n    <tr>\n      <th>1</th>\n      <td>60002-1</td>\n      <td>1</td>\n      <td>Fire Truck</td>\n      <td>2013</td>\n      <td>58</td>\n      <td>209</td>\n      <td>https://cdn.rebrickable.com/media/sets/60002-1...</td>\n    </tr>\n    <tr>\n      <th>2</th>\n      <td>41062-1</td>\n      <td>1</td>\n      <td>Elsa's Sparkling Ice Castle</td>\n      <td>2015</td>\n      <td>687</td>\n      <td>292</td>\n      <td>https://cdn.rebrickable.com/media/sets/41062-1...</td>\n    </tr>\n    <tr>\n      <th>3</th>\n      <td>60134-1</td>\n      <td>1</td>\n      <td>People Pack - Fun in the Park</td>\n      <td>2016</td>\n      <td>52</td>\n      <td>159</td>\n      <td>https://cdn.rebrickable.com/media/sets/60134-1...</td>\n    </tr>\n    <tr>\n      <th>4</th>\n      <td>41094-1</td>\n      <td>1</td>\n      <td>Heartlake Lighthouse</td>\n      <td>2015</td>\n      <td>494</td>\n      <td>475</td>\n      <td>https://cdn.rebrickable.com/media/sets/41094-1...</td>\n    </tr>\n    <tr>\n      <th>...</th>\n      <td>...</td>\n      <td>...</td>\n      <td>...</td>\n      <td>...</td>\n      <td>...</td>\n      <td>...</td>\n      <td>...</td>\n    </tr>\n    <tr>\n      <th>59</th>\n      <td>76389-1</td>\n      <td>1</td>\n      <td>Hogwarts Chamber Of Secrets</td>\n      <td>2021</td>\n      <td>246</td>\n      <td>1172</td>\n      <td>https://cdn.rebrickable.com/media/sets/76389-1...</td>\n    </tr>\n    <tr>\n      <th>60</th>\n      <td>10293-1</td>\n      <td>1</td>\n      <td>Santa's Visit</td>\n      <td>2021</td>\n      <td>227</td>\n      <td>1445</td>\n      <td>https://cdn.rebrickable.com/media/sets/10293-1...</td>\n    </tr>\n    <tr>\n      <th>61</th>\n      <td>76397-1</td>\n      <td>1</td>\n      <td>Hogwarts Moment: Defence Against the Dark Arts...</td>\n      <td>2022</td>\n      <td>246</td>\n      <td>257</td>\n      <td>https://cdn.rebrickable.com/media/sets/76397-1...</td>\n    </tr>\n    <tr>\n      <th>62</th>\n      <td>76408-1</td>\n      <td>1</td>\n      <td>12 Grimmauld Place</td>\n      <td>2022</td>\n      <td>246</td>\n      <td>1086</td>\n      <td>https://cdn.rebrickable.com/media/sets/76408-1...</td>\n    </tr>\n    <tr>\n      <th>63</th>\n      <td>76406-1</td>\n      <td>1</td>\n      <td>Hungarian Horntail Dragon</td>\n      <td>2022</td>\n      <td>246</td>\n      <td>671</td>\n      <td>https://cdn.rebrickable.com/media/sets/76406-1...</td>\n    </tr>\n  </tbody>\n</table>\n<p>64 rows × 7 columns</p>\n</div>"
                    },
                    "metadata": {},
                    "execution_count": 108,
                    "output_type": "execute_result"
                }
            ],
            "execution_count": 108
        },
        {
            "cell_type": "markdown",
            "source": [
                "## Get to Know the Numbers\n",
                "\n",
                "Now that you have everything setup, put any code that you use to get to know the dataframe and its rows and columns better in the cell below. You can use whatever techniques you like, except for visualizations. You will put those in a separate section.\n",
                "\n",
                "When working on your code, make sure to leave comments so that your mentors can understand your thought process."
            ],
            "metadata": {
                "azdata_cell_guid": "129ce836-524b-4ea8-b394-a959f9308d6a"
            },
            "attachments": {}
        },
        {
            "cell_type": "code",
            "source": [
                "#I want to know what the sets' themes are, so first getting the unique values from theme_id. \n",
                "themes2 = set_names['theme_id'].unique()\n",
                "df_themes = pd.DataFrame.from_dict(themes2)\n",
                "df_themes = df_themes.rename(columns={0:'Theme ID'})\n",
                "print(df_themes)"
            ],
            "metadata": {
                "azdata_cell_guid": "e530d6d2-006a-4b0f-8c86-32d45d7058b5",
                "language": "python"
            },
            "outputs": [
                {
                    "name": "stdout",
                    "text": "    Theme ID\n0        621\n1         58\n2        687\n3         52\n4        494\n5        579\n6        228\n7        435\n8        616\n9        576\n10       600\n11       246\n12       702\n13       696\n14       640\n15       682\n16       206\n17       610\n18       721\n19       227\n",
                    "output_type": "stream"
                }
            ],
            "execution_count": 109
        },
        {
            "cell_type": "code",
            "source": [
                "#Now I'm going to find the values from the Themes df. \n",
                "name_themes = df_themes.join(themes.set_index('id'), on= 'Theme ID')\n",
                "name_themes"
            ],
            "metadata": {
                "azdata_cell_guid": "55977e32-5fec-4e0e-9604-7b3ba7c730a1",
                "language": "python",
                "tags": []
            },
            "outputs": [
                {
                    "data": {
                        "text/plain": "    Theme ID                   name  parent_id\n0        621                Classic        NaN\n1         58                   Fire       52.0\n2        687                 Frozen      608.0\n3         52                   City        NaN\n4        494                Friends        NaN\n5        579        Disney Princess        NaN\n6        228                Creator      227.0\n7        435                Ninjago        NaN\n8        616      Ninjago The Movie      435.0\n9        576  LEGO Ideas and CUUSOO        NaN\n10       600                  Elves        NaN\n11       246           Harry Potter        NaN\n12       702               Avengers      696.0\n13       696    Super Heroes Marvel        NaN\n14       640        Disney Princess      504.0\n15       682     Trolls: World Tour        NaN\n16       206               Seasonal        NaN\n17       610             Brickheadz        NaN\n18       721                  Icons        NaN\n19       227              Christmas      206.0",
                        "text/html": "<div>\n<style scoped>\n    .dataframe tbody tr th:only-of-type {\n        vertical-align: middle;\n    }\n\n    .dataframe tbody tr th {\n        vertical-align: top;\n    }\n\n    .dataframe thead th {\n        text-align: right;\n    }\n</style>\n<table border=\"1\" class=\"dataframe\">\n  <thead>\n    <tr style=\"text-align: right;\">\n      <th></th>\n      <th>Theme ID</th>\n      <th>name</th>\n      <th>parent_id</th>\n    </tr>\n  </thead>\n  <tbody>\n    <tr>\n      <th>0</th>\n      <td>621</td>\n      <td>Classic</td>\n      <td>NaN</td>\n    </tr>\n    <tr>\n      <th>1</th>\n      <td>58</td>\n      <td>Fire</td>\n      <td>52.0</td>\n    </tr>\n    <tr>\n      <th>2</th>\n      <td>687</td>\n      <td>Frozen</td>\n      <td>608.0</td>\n    </tr>\n    <tr>\n      <th>3</th>\n      <td>52</td>\n      <td>City</td>\n      <td>NaN</td>\n    </tr>\n    <tr>\n      <th>4</th>\n      <td>494</td>\n      <td>Friends</td>\n      <td>NaN</td>\n    </tr>\n    <tr>\n      <th>5</th>\n      <td>579</td>\n      <td>Disney Princess</td>\n      <td>NaN</td>\n    </tr>\n    <tr>\n      <th>6</th>\n      <td>228</td>\n      <td>Creator</td>\n      <td>227.0</td>\n    </tr>\n    <tr>\n      <th>7</th>\n      <td>435</td>\n      <td>Ninjago</td>\n      <td>NaN</td>\n    </tr>\n    <tr>\n      <th>8</th>\n      <td>616</td>\n      <td>Ninjago The Movie</td>\n      <td>435.0</td>\n    </tr>\n    <tr>\n      <th>9</th>\n      <td>576</td>\n      <td>LEGO Ideas and CUUSOO</td>\n      <td>NaN</td>\n    </tr>\n    <tr>\n      <th>10</th>\n      <td>600</td>\n      <td>Elves</td>\n      <td>NaN</td>\n    </tr>\n    <tr>\n      <th>11</th>\n      <td>246</td>\n      <td>Harry Potter</td>\n      <td>NaN</td>\n    </tr>\n    <tr>\n      <th>12</th>\n      <td>702</td>\n      <td>Avengers</td>\n      <td>696.0</td>\n    </tr>\n    <tr>\n      <th>13</th>\n      <td>696</td>\n      <td>Super Heroes Marvel</td>\n      <td>NaN</td>\n    </tr>\n    <tr>\n      <th>14</th>\n      <td>640</td>\n      <td>Disney Princess</td>\n      <td>504.0</td>\n    </tr>\n    <tr>\n      <th>15</th>\n      <td>682</td>\n      <td>Trolls: World Tour</td>\n      <td>NaN</td>\n    </tr>\n    <tr>\n      <th>16</th>\n      <td>206</td>\n      <td>Seasonal</td>\n      <td>NaN</td>\n    </tr>\n    <tr>\n      <th>17</th>\n      <td>610</td>\n      <td>Brickheadz</td>\n      <td>NaN</td>\n    </tr>\n    <tr>\n      <th>18</th>\n      <td>721</td>\n      <td>Icons</td>\n      <td>NaN</td>\n    </tr>\n    <tr>\n      <th>19</th>\n      <td>227</td>\n      <td>Christmas</td>\n      <td>206.0</td>\n    </tr>\n  </tbody>\n</table>\n</div>"
                    },
                    "metadata": {},
                    "execution_count": 110,
                    "output_type": "execute_result"
                }
            ],
            "execution_count": 110
        },
        {
            "cell_type": "code",
            "source": [
                "#Counting number of occurrences\n",
                "times = set_names['theme_id'].value_counts()\n",
                "times = pd.DataFrame.from_dict(times)\n",
                "times = times.rename(columns={0:'Theme ID', 'theme_id':'Number of Sets'})\n",
                "times"
            ],
            "metadata": {
                "azdata_cell_guid": "f57ad719-c918-4c77-856f-5d13c1e5fb6b",
                "language": "python"
            },
            "outputs": [
                {
                    "data": {
                        "text/plain": "     Number of Sets\n246              24\n435               8\n579               6\n494               5\n600               3\n721               3\n687               2\n696               1\n610               1\n206               1\n682               1\n640               1\n621               1\n702               1\n58                1\n576               1\n616               1\n228               1\n52                1\n227               1",
                        "text/html": "<div>\n<style scoped>\n    .dataframe tbody tr th:only-of-type {\n        vertical-align: middle;\n    }\n\n    .dataframe tbody tr th {\n        vertical-align: top;\n    }\n\n    .dataframe thead th {\n        text-align: right;\n    }\n</style>\n<table border=\"1\" class=\"dataframe\">\n  <thead>\n    <tr style=\"text-align: right;\">\n      <th></th>\n      <th>Number of Sets</th>\n    </tr>\n  </thead>\n  <tbody>\n    <tr>\n      <th>246</th>\n      <td>24</td>\n    </tr>\n    <tr>\n      <th>435</th>\n      <td>8</td>\n    </tr>\n    <tr>\n      <th>579</th>\n      <td>6</td>\n    </tr>\n    <tr>\n      <th>494</th>\n      <td>5</td>\n    </tr>\n    <tr>\n      <th>600</th>\n      <td>3</td>\n    </tr>\n    <tr>\n      <th>721</th>\n      <td>3</td>\n    </tr>\n    <tr>\n      <th>687</th>\n      <td>2</td>\n    </tr>\n    <tr>\n      <th>696</th>\n      <td>1</td>\n    </tr>\n    <tr>\n      <th>610</th>\n      <td>1</td>\n    </tr>\n    <tr>\n      <th>206</th>\n      <td>1</td>\n    </tr>\n    <tr>\n      <th>682</th>\n      <td>1</td>\n    </tr>\n    <tr>\n      <th>640</th>\n      <td>1</td>\n    </tr>\n    <tr>\n      <th>621</th>\n      <td>1</td>\n    </tr>\n    <tr>\n      <th>702</th>\n      <td>1</td>\n    </tr>\n    <tr>\n      <th>58</th>\n      <td>1</td>\n    </tr>\n    <tr>\n      <th>576</th>\n      <td>1</td>\n    </tr>\n    <tr>\n      <th>616</th>\n      <td>1</td>\n    </tr>\n    <tr>\n      <th>228</th>\n      <td>1</td>\n    </tr>\n    <tr>\n      <th>52</th>\n      <td>1</td>\n    </tr>\n    <tr>\n      <th>227</th>\n      <td>1</td>\n    </tr>\n  </tbody>\n</table>\n</div>"
                    },
                    "metadata": {},
                    "execution_count": 111,
                    "output_type": "execute_result"
                }
            ],
            "execution_count": 111
        },
        {
            "cell_type": "code",
            "source": [
                "set_year = set_names['year'].value_counts()\n",
                "set_year = set_year.rename({'year':\"count\"})\n",
                "set_year"
            ],
            "metadata": {
                "azdata_cell_guid": "0ca2d318-f6e8-43ef-a33e-5304d24d928d",
                "tags": [],
                "language": "python"
            },
            "outputs": [
                {
                    "data": {
                        "text/plain": "2018    17\n2019    13\n2020    10\n2021     8\n2016     4\n2015     3\n2017     3\n2022     3\n2014     2\n2013     1\nName: year, dtype: int64"
                    },
                    "metadata": {},
                    "execution_count": 112,
                    "output_type": "execute_result"
                }
            ],
            "execution_count": 112
        },
        {
            "cell_type": "code",
            "source": [
                "#I also want to know what our largest sets are. \n",
                "set_names = set_names.sort_values('num_parts', ascending=False)\n",
                "set_names"
            ],
            "metadata": {
                "azdata_cell_guid": "04df6b21-7d4c-4533-a48a-8fce425949bb",
                "language": "python",
                "tags": []
            },
            "outputs": [
                {
                    "data": {
                        "text/plain": "   Set Number  Quantity                           name  year  theme_id  \\\n23    70655-1         1                     Dragon Pit  2018       435   \n60    10293-1         1                  Santa's Visit  2021       227   \n33    41375-1         1  Heartlake City Amusement Pier  2019       494   \n55    10289-1         1               Bird of Paradise  2021       721   \n59    76389-1         1    Hogwarts Chamber Of Secrets  2021       246   \n..        ...       ...                            ...   ...       ...   \n45    40382-1         1                   Birthday Set  2020       206   \n35    75945-1         1               Expecto Patronum  2019       246   \n10    70621-1         1          The Vermillion Attack  2017       435   \n41    10899-1         1              Frozen Ice Castle  2019       640   \n29    30407-1         1    Harry's Journey to Hogwarts  2018       246   \n\n    num_parts                                            img_url  \n23       1669  https://cdn.rebrickable.com/media/sets/70655-1...  \n60       1445  https://cdn.rebrickable.com/media/sets/10293-1...  \n33       1267  https://cdn.rebrickable.com/media/sets/41375-1...  \n55       1173  https://cdn.rebrickable.com/media/sets/10289-1...  \n59       1172  https://cdn.rebrickable.com/media/sets/76389-1...  \n..        ...                                                ...  \n45        141  https://cdn.rebrickable.com/media/sets/40382-1...  \n35        121  https://cdn.rebrickable.com/media/sets/75945-1...  \n10         83  https://cdn.rebrickable.com/media/sets/70621-1...  \n41         59  https://cdn.rebrickable.com/media/sets/10899-1...  \n29         40  https://cdn.rebrickable.com/media/sets/30407-1...  \n\n[64 rows x 7 columns]",
                        "text/html": "<div>\n<style scoped>\n    .dataframe tbody tr th:only-of-type {\n        vertical-align: middle;\n    }\n\n    .dataframe tbody tr th {\n        vertical-align: top;\n    }\n\n    .dataframe thead th {\n        text-align: right;\n    }\n</style>\n<table border=\"1\" class=\"dataframe\">\n  <thead>\n    <tr style=\"text-align: right;\">\n      <th></th>\n      <th>Set Number</th>\n      <th>Quantity</th>\n      <th>name</th>\n      <th>year</th>\n      <th>theme_id</th>\n      <th>num_parts</th>\n      <th>img_url</th>\n    </tr>\n  </thead>\n  <tbody>\n    <tr>\n      <th>23</th>\n      <td>70655-1</td>\n      <td>1</td>\n      <td>Dragon Pit</td>\n      <td>2018</td>\n      <td>435</td>\n      <td>1669</td>\n      <td>https://cdn.rebrickable.com/media/sets/70655-1...</td>\n    </tr>\n    <tr>\n      <th>60</th>\n      <td>10293-1</td>\n      <td>1</td>\n      <td>Santa's Visit</td>\n      <td>2021</td>\n      <td>227</td>\n      <td>1445</td>\n      <td>https://cdn.rebrickable.com/media/sets/10293-1...</td>\n    </tr>\n    <tr>\n      <th>33</th>\n      <td>41375-1</td>\n      <td>1</td>\n      <td>Heartlake City Amusement Pier</td>\n      <td>2019</td>\n      <td>494</td>\n      <td>1267</td>\n      <td>https://cdn.rebrickable.com/media/sets/41375-1...</td>\n    </tr>\n    <tr>\n      <th>55</th>\n      <td>10289-1</td>\n      <td>1</td>\n      <td>Bird of Paradise</td>\n      <td>2021</td>\n      <td>721</td>\n      <td>1173</td>\n      <td>https://cdn.rebrickable.com/media/sets/10289-1...</td>\n    </tr>\n    <tr>\n      <th>59</th>\n      <td>76389-1</td>\n      <td>1</td>\n      <td>Hogwarts Chamber Of Secrets</td>\n      <td>2021</td>\n      <td>246</td>\n      <td>1172</td>\n      <td>https://cdn.rebrickable.com/media/sets/76389-1...</td>\n    </tr>\n    <tr>\n      <th>...</th>\n      <td>...</td>\n      <td>...</td>\n      <td>...</td>\n      <td>...</td>\n      <td>...</td>\n      <td>...</td>\n      <td>...</td>\n    </tr>\n    <tr>\n      <th>45</th>\n      <td>40382-1</td>\n      <td>1</td>\n      <td>Birthday Set</td>\n      <td>2020</td>\n      <td>206</td>\n      <td>141</td>\n      <td>https://cdn.rebrickable.com/media/sets/40382-1...</td>\n    </tr>\n    <tr>\n      <th>35</th>\n      <td>75945-1</td>\n      <td>1</td>\n      <td>Expecto Patronum</td>\n      <td>2019</td>\n      <td>246</td>\n      <td>121</td>\n      <td>https://cdn.rebrickable.com/media/sets/75945-1...</td>\n    </tr>\n    <tr>\n      <th>10</th>\n      <td>70621-1</td>\n      <td>1</td>\n      <td>The Vermillion Attack</td>\n      <td>2017</td>\n      <td>435</td>\n      <td>83</td>\n      <td>https://cdn.rebrickable.com/media/sets/70621-1...</td>\n    </tr>\n    <tr>\n      <th>41</th>\n      <td>10899-1</td>\n      <td>1</td>\n      <td>Frozen Ice Castle</td>\n      <td>2019</td>\n      <td>640</td>\n      <td>59</td>\n      <td>https://cdn.rebrickable.com/media/sets/10899-1...</td>\n    </tr>\n    <tr>\n      <th>29</th>\n      <td>30407-1</td>\n      <td>1</td>\n      <td>Harry's Journey to Hogwarts</td>\n      <td>2018</td>\n      <td>246</td>\n      <td>40</td>\n      <td>https://cdn.rebrickable.com/media/sets/30407-1...</td>\n    </tr>\n  </tbody>\n</table>\n<p>64 rows × 7 columns</p>\n</div>"
                    },
                    "metadata": {},
                    "execution_count": 116,
                    "output_type": "execute_result"
                }
            ],
            "execution_count": 116
        },
        {
            "cell_type": "code",
            "source": [
                "by_year = set_names.sort_values('year', ascending=True)\n",
                "by_year"
            ],
            "metadata": {
                "azdata_cell_guid": "7d05bf43-50ee-4777-9106-af35dff62ac0",
                "language": "python",
                "tags": []
            },
            "outputs": [
                {
                    "data": {
                        "text/plain": "   Set Number  Quantity                                               name  \\\n1     60002-1         1                                         Fire Truck   \n5     41055-1         1                       Cinderella’s Romantic Castle   \n7     10245-1         1                                   Santa’s Workshop   \n0     10698-1         1                           Large Creative Brick Box   \n4     41094-1         1                               Heartlake Lighthouse   \n..        ...       ...                                                ...   \n58    76388-1         1                            Hogsmeade Village Visit   \n59    76389-1         1                        Hogwarts Chamber Of Secrets   \n62    76408-1         1                                 12 Grimmauld Place   \n63    76406-1         1                          Hungarian Horntail Dragon   \n61    76397-1         1  Hogwarts Moment: Defence Against the Dark Arts...   \n\n    year  theme_id  num_parts  \\\n1   2013        58        209   \n5   2014       579        647   \n7   2014       228        884   \n0   2015       621        790   \n4   2015       494        475   \n..   ...       ...        ...   \n58  2021       246        847   \n59  2021       246       1172   \n62  2022       246       1086   \n63  2022       246        671   \n61  2022       246        257   \n\n                                              img_url  \n1   https://cdn.rebrickable.com/media/sets/60002-1...  \n5   https://cdn.rebrickable.com/media/sets/41055-1...  \n7   https://cdn.rebrickable.com/media/sets/10245-1...  \n0   https://cdn.rebrickable.com/media/sets/10698-1...  \n4   https://cdn.rebrickable.com/media/sets/41094-1...  \n..                                                ...  \n58  https://cdn.rebrickable.com/media/sets/76388-1...  \n59  https://cdn.rebrickable.com/media/sets/76389-1...  \n62  https://cdn.rebrickable.com/media/sets/76408-1...  \n63  https://cdn.rebrickable.com/media/sets/76406-1...  \n61  https://cdn.rebrickable.com/media/sets/76397-1...  \n\n[64 rows x 7 columns]",
                        "text/html": "<div>\n<style scoped>\n    .dataframe tbody tr th:only-of-type {\n        vertical-align: middle;\n    }\n\n    .dataframe tbody tr th {\n        vertical-align: top;\n    }\n\n    .dataframe thead th {\n        text-align: right;\n    }\n</style>\n<table border=\"1\" class=\"dataframe\">\n  <thead>\n    <tr style=\"text-align: right;\">\n      <th></th>\n      <th>Set Number</th>\n      <th>Quantity</th>\n      <th>name</th>\n      <th>year</th>\n      <th>theme_id</th>\n      <th>num_parts</th>\n      <th>img_url</th>\n    </tr>\n  </thead>\n  <tbody>\n    <tr>\n      <th>1</th>\n      <td>60002-1</td>\n      <td>1</td>\n      <td>Fire Truck</td>\n      <td>2013</td>\n      <td>58</td>\n      <td>209</td>\n      <td>https://cdn.rebrickable.com/media/sets/60002-1...</td>\n    </tr>\n    <tr>\n      <th>5</th>\n      <td>41055-1</td>\n      <td>1</td>\n      <td>Cinderella’s Romantic Castle</td>\n      <td>2014</td>\n      <td>579</td>\n      <td>647</td>\n      <td>https://cdn.rebrickable.com/media/sets/41055-1...</td>\n    </tr>\n    <tr>\n      <th>7</th>\n      <td>10245-1</td>\n      <td>1</td>\n      <td>Santa’s Workshop</td>\n      <td>2014</td>\n      <td>228</td>\n      <td>884</td>\n      <td>https://cdn.rebrickable.com/media/sets/10245-1...</td>\n    </tr>\n    <tr>\n      <th>0</th>\n      <td>10698-1</td>\n      <td>1</td>\n      <td>Large Creative Brick Box</td>\n      <td>2015</td>\n      <td>621</td>\n      <td>790</td>\n      <td>https://cdn.rebrickable.com/media/sets/10698-1...</td>\n    </tr>\n    <tr>\n      <th>4</th>\n      <td>41094-1</td>\n      <td>1</td>\n      <td>Heartlake Lighthouse</td>\n      <td>2015</td>\n      <td>494</td>\n      <td>475</td>\n      <td>https://cdn.rebrickable.com/media/sets/41094-1...</td>\n    </tr>\n    <tr>\n      <th>...</th>\n      <td>...</td>\n      <td>...</td>\n      <td>...</td>\n      <td>...</td>\n      <td>...</td>\n      <td>...</td>\n      <td>...</td>\n    </tr>\n    <tr>\n      <th>58</th>\n      <td>76388-1</td>\n      <td>1</td>\n      <td>Hogsmeade Village Visit</td>\n      <td>2021</td>\n      <td>246</td>\n      <td>847</td>\n      <td>https://cdn.rebrickable.com/media/sets/76388-1...</td>\n    </tr>\n    <tr>\n      <th>59</th>\n      <td>76389-1</td>\n      <td>1</td>\n      <td>Hogwarts Chamber Of Secrets</td>\n      <td>2021</td>\n      <td>246</td>\n      <td>1172</td>\n      <td>https://cdn.rebrickable.com/media/sets/76389-1...</td>\n    </tr>\n    <tr>\n      <th>62</th>\n      <td>76408-1</td>\n      <td>1</td>\n      <td>12 Grimmauld Place</td>\n      <td>2022</td>\n      <td>246</td>\n      <td>1086</td>\n      <td>https://cdn.rebrickable.com/media/sets/76408-1...</td>\n    </tr>\n    <tr>\n      <th>63</th>\n      <td>76406-1</td>\n      <td>1</td>\n      <td>Hungarian Horntail Dragon</td>\n      <td>2022</td>\n      <td>246</td>\n      <td>671</td>\n      <td>https://cdn.rebrickable.com/media/sets/76406-1...</td>\n    </tr>\n    <tr>\n      <th>61</th>\n      <td>76397-1</td>\n      <td>1</td>\n      <td>Hogwarts Moment: Defence Against the Dark Arts...</td>\n      <td>2022</td>\n      <td>246</td>\n      <td>257</td>\n      <td>https://cdn.rebrickable.com/media/sets/76397-1...</td>\n    </tr>\n  </tbody>\n</table>\n<p>64 rows × 7 columns</p>\n</div>"
                    },
                    "metadata": {},
                    "execution_count": 136,
                    "output_type": "execute_result"
                }
            ],
            "execution_count": 136
        },
        {
            "cell_type": "markdown",
            "source": [
                "## Visualize\n",
                "\n",
                "Create any visualizations for your EDA here. Make note in the form of code comments of what your thought process is for your visualizations."
            ],
            "metadata": {
                "azdata_cell_guid": "d45060f3-97bc-484a-9ef4-66145bbe9427"
            },
            "attachments": {}
        },
        {
            "cell_type": "code",
            "source": [
                "set_names.theme_id.value_counts().plot(kind='bar')"
            ],
            "metadata": {
                "azdata_cell_guid": "cd64bab1-db4c-4295-820d-c6464b653a3e",
                "language": "python",
                "tags": []
            },
            "outputs": [
                {
                    "data": {
                        "text/plain": "<Figure size 432x288 with 1 Axes>",
                        "image/png": "[encoded data removed]"
                    },
                    "metadata": {
                        "needs_background": "light"
                    },
                    "output_type": "display_data"
                },
                {
                    "data": {
                        "text/plain": "<AxesSubplot:>"
                    },
                    "metadata": {},
                    "execution_count": 121,
                    "output_type": "execute_result"
                }
            ],
            "execution_count": 121
        },
        {
            "cell_type": "code",
            "source": [
                "set_names.year.value_counts().plot(kind='bar')"
            ],
            "metadata": {
                "azdata_cell_guid": "34365ade-70a3-4017-8381-ff16a430a7cf",
                "language": "python"
            },
            "outputs": [
                {
                    "data": {
                        "text/plain": "<Figure size 432x288 with 1 Axes>",
                        "image/png": "[encoded data removed]"
                    },
                    "metadata": {
                        "needs_background": "light"
                    },
                    "output_type": "display_data"
                },
                {
                    "data": {
                        "text/plain": "<AxesSubplot:>"
                    },
                    "metadata": {},
                    "execution_count": 122,
                    "output_type": "execute_result"
                }
            ],
            "execution_count": 122
        },
        {
            "cell_type": "markdown",
            "source": [
                "## Summarize Your Results\n",
                "\n",
                "With your EDA complete, answer the following questions.\n",
                "\n",
                "1. Was there anything surprising about your dataset?\n",
                "\n",
                "I was surprised to see that the largest sets in my family aren't the Harry Potter sets that I expected to see, but were some of the other more random sets. \n",
                "\n",
                "1. Do you have any concerns about your dataset?\n",
                "\n",
                "Since I am using data from my family's collection, I don't have information about when the sets were added, which does impact my analysis since some sets were purchased on discounts or were older and bought because my children had an interest in that particular set.  I can only analyze the data based on what year the set came out, so the trends can be mis-representative. \n",
                "\n",
                "1. Is there anything you want to make note of for the next phase of your analysis, which is cleaning data?\n",
                "\n",
                "I know that the Rebrickable database is supported by the users of the site, so I will be interested to see how accurate or clean the data is."
            ],
            "metadata": {
                "azdata_cell_guid": "d4931c0c-2c09-4ee1-95d4-73dd08c2f0a6"
            },
            "attachments": {}
        }
    ]
}