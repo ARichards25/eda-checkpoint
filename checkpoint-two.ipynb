{
 "cells": [
  {
   "cell_type": "markdown",
   "metadata": {
    "azdata_cell_guid": "151601c9-ca7a-412e-af80-c62a87e0837e"
   },
   "source": [
    "# Checkpoint Two: Exploratory Data Analysis\n",
    "\n",
    "Now that your chosen dataset is approved, it is time to start working on your analysis. Use this notebook to perform your EDA and make notes where directed to as you work.\n",
    "\n",
    "## Getting Started\n",
    "\n",
    "Since we have not provided your dataset for you, you will need to load the necessary files in this repository. Make sure to include a link back to the original dataset here as well.\n",
    "\n",
    "My dataset:\n",
    "\n",
    "Your first task in EDA is to import necessary libraries and create a dataframe(s). Make note in the form of code comments of what your thought process is as you work on this setup task."
   ]
  },
  {
   "cell_type": "code",
   "execution_count": 3,
   "metadata": {
    "azdata_cell_guid": "7b503e37-6df5-4433-acfb-678b1346db14",
    "tags": []
   },
   "outputs": [],
   "source": [
    "import numpy as np\n",
    "import pandas as pd\n",
    "import matplotlib.pyplot as plt\n",
    "import seaborn as sns"
   ]
  },
  {
   "cell_type": "markdown",
   "metadata": {
    "azdata_cell_guid": "129ce836-524b-4ea8-b394-a959f9308d6a"
   },
   "source": [
    "## Get to Know the Numbers\n",
    "\n",
    "Now that you have everything setup, put any code that you use to get to know the dataframe and its rows and columns better in the cell below. You can use whatever techniques you like, except for visualizations. You will put those in a separate section.\n",
    "\n",
    "When working on your code, make sure to leave comments so that your mentors can understand your thought process."
   ]
  },
  {
   "cell_type": "code",
   "execution_count": 8,
   "metadata": {
    "azdata_cell_guid": "0ca2d318-f6e8-43ef-a33e-5304d24d928d",
    "tags": []
   },
   "outputs": [],
   "source": [
    "colors = pd.read_csv(\"colors.csv\")\n",
    "elements = pd.read_csv(\"elements.csv\")\n",
    "inventories = pd.read_csv(\"inventories.csv\")\n",
    "inventory_mf = pd.read_csv(\"inventory_minifigs.csv\")\n",
    "inventory_p = pd.read_csv(\"inventory_parts.csv\")\n",
    "inventory_s = pd.read_csv(\"inventory_sets.csv\")\n",
    "mf = pd.read_csv(\"minifigs.csv\")\n",
    "part_cat = pd.read_csv(\"part_categories.csv\")\n",
    "part_rel = pd.read_csv(\"part_relationships.csv\")\n",
    "parts = pd.read_csv(\"parts.csv\")\n",
    "sets = pd.read_csv(\"sets.csv\")\n",
    "themes = pd.read_csv(\"themes.csv\")\n",
    "r_sets = pd.read_csv(\"rebrickable_sets_aarich47.csv\")"
   ]
  },
  {
   "cell_type": "markdown",
   "metadata": {},
   "source": [
    "I'm going to take a look at the data sets to see what info there is and if I need to use all of the tables available. "
   ]
  },
  {
   "cell_type": "code",
   "execution_count": 46,
   "metadata": {},
   "outputs": [
    {
     "name": "stdout",
     "output_type": "stream",
     "text": [
      "<class 'pandas.core.frame.DataFrame'>\n",
      "RangeIndex: 217 entries, 0 to 216\n",
      "Data columns (total 4 columns):\n",
      " #   Column    Non-Null Count  Dtype \n",
      "---  ------    --------------  ----- \n",
      " 0   id        217 non-null    int64 \n",
      " 1   name      217 non-null    object\n",
      " 2   rgb       217 non-null    object\n",
      " 3   is_trans  217 non-null    object\n",
      "dtypes: int64(1), object(3)\n",
      "memory usage: 6.9+ KB\n"
     ]
    }
   ],
   "source": [
    "colors.info()"
   ]
  },
  {
   "cell_type": "code",
   "execution_count": 57,
   "metadata": {},
   "outputs": [
    {
     "name": "stdout",
     "output_type": "stream",
     "text": [
      "<class 'pandas.core.frame.DataFrame'>\n",
      "RangeIndex: 75428 entries, 0 to 75427\n",
      "Data columns (total 3 columns):\n",
      " #   Column      Non-Null Count  Dtype \n",
      "---  ------      --------------  ----- \n",
      " 0   element_id  75428 non-null  int64 \n",
      " 1   part_num    75428 non-null  object\n",
      " 2   color_id    75428 non-null  int64 \n",
      "dtypes: int64(2), object(1)\n",
      "memory usage: 1.7+ MB\n"
     ]
    }
   ],
   "source": [
    "elements.info()"
   ]
  },
  {
   "cell_type": "code",
   "execution_count": 56,
   "metadata": {},
   "outputs": [
    {
     "name": "stdout",
     "output_type": "stream",
     "text": [
      "<class 'pandas.core.frame.DataFrame'>\n",
      "RangeIndex: 34875 entries, 0 to 34874\n",
      "Data columns (total 3 columns):\n",
      " #   Column   Non-Null Count  Dtype \n",
      "---  ------   --------------  ----- \n",
      " 0   id       34875 non-null  int64 \n",
      " 1   version  34875 non-null  int64 \n",
      " 2   set_num  34875 non-null  object\n",
      "dtypes: int64(2), object(1)\n",
      "memory usage: 817.5+ KB\n"
     ]
    }
   ],
   "source": [
    "inventories.info()"
   ]
  },
  {
   "cell_type": "code",
   "execution_count": 55,
   "metadata": {},
   "outputs": [
    {
     "name": "stdout",
     "output_type": "stream",
     "text": [
      "<class 'pandas.core.frame.DataFrame'>\n",
      "RangeIndex: 19415 entries, 0 to 19414\n",
      "Data columns (total 3 columns):\n",
      " #   Column        Non-Null Count  Dtype \n",
      "---  ------        --------------  ----- \n",
      " 0   inventory_id  19415 non-null  int64 \n",
      " 1   fig_num       19415 non-null  object\n",
      " 2   quantity      19415 non-null  int64 \n",
      "dtypes: int64(2), object(1)\n",
      "memory usage: 455.2+ KB\n"
     ]
    }
   ],
   "source": [
    "inventory_mf.info()"
   ]
  },
  {
   "cell_type": "code",
   "execution_count": 54,
   "metadata": {},
   "outputs": [
    {
     "name": "stdout",
     "output_type": "stream",
     "text": [
      "<class 'pandas.core.frame.DataFrame'>\n",
      "RangeIndex: 1094039 entries, 0 to 1094038\n",
      "Data columns (total 6 columns):\n",
      " #   Column        Non-Null Count    Dtype \n",
      "---  ------        --------------    ----- \n",
      " 0   inventory_id  1094039 non-null  int64 \n",
      " 1   part_num      1094039 non-null  object\n",
      " 2   color_id      1094039 non-null  int64 \n",
      " 3   quantity      1094039 non-null  int64 \n",
      " 4   is_spare      1094039 non-null  object\n",
      " 5   img_url       1086245 non-null  object\n",
      "dtypes: int64(3), object(3)\n",
      "memory usage: 50.1+ MB\n"
     ]
    }
   ],
   "source": [
    "inventory_p.info()"
   ]
  },
  {
   "cell_type": "code",
   "execution_count": 17,
   "metadata": {},
   "outputs": [
    {
     "data": {
      "text/plain": [
       "Index(['inventory_id', 'set_num', 'quantity'], dtype='object')"
      ]
     },
     "execution_count": 17,
     "metadata": {},
     "output_type": "execute_result"
    }
   ],
   "source": [
    "inventory_s.info()"
   ]
  },
  {
   "cell_type": "code",
   "execution_count": 53,
   "metadata": {},
   "outputs": [
    {
     "name": "stdout",
     "output_type": "stream",
     "text": [
      "<class 'pandas.core.frame.DataFrame'>\n",
      "RangeIndex: 12830 entries, 0 to 12829\n",
      "Data columns (total 4 columns):\n",
      " #   Column     Non-Null Count  Dtype \n",
      "---  ------     --------------  ----- \n",
      " 0   fig_num    12830 non-null  object\n",
      " 1   name       12830 non-null  object\n",
      " 2   num_parts  12830 non-null  int64 \n",
      " 3   img_url    12830 non-null  object\n",
      "dtypes: int64(1), object(3)\n",
      "memory usage: 401.1+ KB\n"
     ]
    }
   ],
   "source": [
    "mf.info()"
   ]
  },
  {
   "cell_type": "code",
   "execution_count": 52,
   "metadata": {},
   "outputs": [
    {
     "name": "stdout",
     "output_type": "stream",
     "text": [
      "<class 'pandas.core.frame.DataFrame'>\n",
      "RangeIndex: 66 entries, 0 to 65\n",
      "Data columns (total 2 columns):\n",
      " #   Column  Non-Null Count  Dtype \n",
      "---  ------  --------------  ----- \n",
      " 0   id      66 non-null     int64 \n",
      " 1   name    66 non-null     object\n",
      "dtypes: int64(1), object(1)\n",
      "memory usage: 1.2+ KB\n"
     ]
    }
   ],
   "source": [
    "part_cat.info()"
   ]
  },
  {
   "cell_type": "code",
   "execution_count": 51,
   "metadata": {},
   "outputs": [
    {
     "name": "stdout",
     "output_type": "stream",
     "text": [
      "<class 'pandas.core.frame.DataFrame'>\n",
      "RangeIndex: 27903 entries, 0 to 27902\n",
      "Data columns (total 3 columns):\n",
      " #   Column           Non-Null Count  Dtype \n",
      "---  ------           --------------  ----- \n",
      " 0   rel_type         27903 non-null  object\n",
      " 1   child_part_num   27903 non-null  object\n",
      " 2   parent_part_num  27903 non-null  object\n",
      "dtypes: object(3)\n",
      "memory usage: 654.1+ KB\n"
     ]
    }
   ],
   "source": [
    "part_rel.info()"
   ]
  },
  {
   "cell_type": "code",
   "execution_count": 50,
   "metadata": {},
   "outputs": [
    {
     "name": "stdout",
     "output_type": "stream",
     "text": [
      "<class 'pandas.core.frame.DataFrame'>\n",
      "RangeIndex: 49833 entries, 0 to 49832\n",
      "Data columns (total 4 columns):\n",
      " #   Column         Non-Null Count  Dtype \n",
      "---  ------         --------------  ----- \n",
      " 0   part_num       49833 non-null  object\n",
      " 1   name           49833 non-null  object\n",
      " 2   part_cat_id    49833 non-null  int64 \n",
      " 3   part_material  49833 non-null  object\n",
      "dtypes: int64(1), object(3)\n",
      "memory usage: 1.5+ MB\n"
     ]
    }
   ],
   "source": [
    "parts.info()"
   ]
  },
  {
   "cell_type": "code",
   "execution_count": 49,
   "metadata": {},
   "outputs": [
    {
     "name": "stdout",
     "output_type": "stream",
     "text": [
      "<class 'pandas.core.frame.DataFrame'>\n",
      "RangeIndex: 20497 entries, 0 to 20496\n",
      "Data columns (total 6 columns):\n",
      " #   Column     Non-Null Count  Dtype \n",
      "---  ------     --------------  ----- \n",
      " 0   set_num    20497 non-null  object\n",
      " 1   name       20497 non-null  object\n",
      " 2   year       20497 non-null  int64 \n",
      " 3   theme_id   20497 non-null  int64 \n",
      " 4   num_parts  20497 non-null  int64 \n",
      " 5   img_url    20497 non-null  object\n",
      "dtypes: int64(3), object(3)\n",
      "memory usage: 960.9+ KB\n"
     ]
    }
   ],
   "source": [
    "sets.info()"
   ]
  },
  {
   "cell_type": "code",
   "execution_count": 48,
   "metadata": {},
   "outputs": [
    {
     "name": "stdout",
     "output_type": "stream",
     "text": [
      "<class 'pandas.core.frame.DataFrame'>\n",
      "RangeIndex: 459 entries, 0 to 458\n",
      "Data columns (total 3 columns):\n",
      " #   Column     Non-Null Count  Dtype  \n",
      "---  ------     --------------  -----  \n",
      " 0   id         459 non-null    int64  \n",
      " 1   name       459 non-null    object \n",
      " 2   parent_id  318 non-null    float64\n",
      "dtypes: float64(1), int64(1), object(1)\n",
      "memory usage: 10.9+ KB\n"
     ]
    }
   ],
   "source": [
    "themes.info()"
   ]
  },
  {
   "cell_type": "code",
   "execution_count": 47,
   "metadata": {},
   "outputs": [
    {
     "name": "stdout",
     "output_type": "stream",
     "text": [
      "<class 'pandas.core.frame.DataFrame'>\n",
      "RangeIndex: 64 entries, 0 to 63\n",
      "Data columns (total 2 columns):\n",
      " #   Column    Non-Null Count  Dtype \n",
      "---  ------    --------------  ----- \n",
      " 0   set_num   64 non-null     object\n",
      " 1   Quantity  64 non-null     int64 \n",
      "dtypes: int64(1), object(1)\n",
      "memory usage: 1.1+ KB\n"
     ]
    }
   ],
   "source": [
    "r_sets.info()"
   ]
  },
  {
   "cell_type": "markdown",
   "metadata": {},
   "source": [
    "Now that I've created dataframes for all of the data available from Rebrickable as well as the .csv file containing my family's sets, I can start to clean and analyze the data. \n",
    "My first questions are how many sets are there, and how many does my family have? "
   ]
  },
  {
   "cell_type": "code",
   "execution_count": 25,
   "metadata": {},
   "outputs": [
    {
     "data": {
      "text/plain": [
       "Set Number  Quantity\n",
       "10245-1     1           1\n",
       "10280-1     1           1\n",
       "70669-1     1           1\n",
       "70670-1     1           1\n",
       "71707-1     1           1\n",
       "                       ..\n",
       "41375-1     1           1\n",
       "60002-1     1           1\n",
       "60134-1     1           1\n",
       "70612-1     1           1\n",
       "76408-1     1           1\n",
       "Length: 64, dtype: int64"
      ]
     },
     "execution_count": 25,
     "metadata": {},
     "output_type": "execute_result"
    }
   ],
   "source": [
    "r_sets.value_counts()"
   ]
  },
  {
   "cell_type": "code",
   "execution_count": 40,
   "metadata": {},
   "outputs": [],
   "source": [
    "##Renaming Set Number to set_num so both have the same column name. \n",
    "r_sets.rename(columns = {'Set Number':'set_num'}, inplace = True)"
   ]
  },
  {
   "cell_type": "code",
   "execution_count": 41,
   "metadata": {},
   "outputs": [
    {
     "data": {
      "text/plain": [
       "set_num    name                     year  theme_id  num_parts  img_url                                             \n",
       "00-6       Special Offer            1985  67        0          https://cdn.rebrickable.com/media/sets/00-6.jpg         1\n",
       "71027-18   Series 20 - Sealed Box   2020  692       0          https://cdn.rebrickable.com/media/sets/71027-18.jpg     1\n",
       "71301-1    Ketar Creature of Stone  2016  324       80         https://cdn.rebrickable.com/media/sets/71301-1.jpg      1\n",
       "71300-1    Uxar Creature of Jungle  2016  324       89         https://cdn.rebrickable.com/media/sets/71300-1.jpg      1\n",
       "7130-1     Snowspeeder              1999  158       217        https://cdn.rebrickable.com/media/sets/7130-1.jpg       1\n",
       "                                                                                                                      ..\n",
       "4293151-1  Chalk Eggs               2006  739       0          https://cdn.rebrickable.com/media/sets/4293151-1.jpg    1\n",
       "4293150-1  Sand Mould Set           2006  501       0          https://cdn.rebrickable.com/media/sets/4293150-1.jpg    1\n",
       "4293149-1  Dino Attack Kite         2006  501       0          https://cdn.rebrickable.com/media/sets/4293149-1.jpg    1\n",
       "4293136-1  Dino Attack Parachute    2006  385       4          https://cdn.rebrickable.com/media/sets/4293136-1.jpg    1\n",
       "vwkit-1    Volkswagen Kit           1959  366       22         https://cdn.rebrickable.com/media/sets/vwkit-1.jpg      1\n",
       "Length: 20497, dtype: int64"
      ]
     },
     "execution_count": 41,
     "metadata": {},
     "output_type": "execute_result"
    }
   ],
   "source": [
    "sets.value_counts()"
   ]
  },
  {
   "cell_type": "code",
   "execution_count": 45,
   "metadata": {
    "tags": []
   },
   "outputs": [
    {
     "data": {
      "text/html": [
       "<div>\n",
       "<style scoped>\n",
       "    .dataframe tbody tr th:only-of-type {\n",
       "        vertical-align: middle;\n",
       "    }\n",
       "\n",
       "    .dataframe tbody tr th {\n",
       "        vertical-align: top;\n",
       "    }\n",
       "\n",
       "    .dataframe thead th {\n",
       "        text-align: right;\n",
       "    }\n",
       "</style>\n",
       "<table border=\"1\" class=\"dataframe\">\n",
       "  <thead>\n",
       "    <tr style=\"text-align: right;\">\n",
       "      <th></th>\n",
       "      <th>set_num</th>\n",
       "      <th>Quantity</th>\n",
       "      <th>name</th>\n",
       "      <th>year</th>\n",
       "      <th>theme_id</th>\n",
       "      <th>num_parts</th>\n",
       "      <th>img_url</th>\n",
       "    </tr>\n",
       "  </thead>\n",
       "  <tbody>\n",
       "    <tr>\n",
       "      <th>0</th>\n",
       "      <td>10698-1</td>\n",
       "      <td>1</td>\n",
       "      <td>Large Creative Brick Box</td>\n",
       "      <td>2015</td>\n",
       "      <td>621</td>\n",
       "      <td>790</td>\n",
       "      <td>https://cdn.rebrickable.com/media/sets/10698-1...</td>\n",
       "    </tr>\n",
       "    <tr>\n",
       "      <th>1</th>\n",
       "      <td>60002-1</td>\n",
       "      <td>1</td>\n",
       "      <td>Fire Truck</td>\n",
       "      <td>2013</td>\n",
       "      <td>58</td>\n",
       "      <td>209</td>\n",
       "      <td>https://cdn.rebrickable.com/media/sets/60002-1...</td>\n",
       "    </tr>\n",
       "    <tr>\n",
       "      <th>2</th>\n",
       "      <td>41062-1</td>\n",
       "      <td>1</td>\n",
       "      <td>Elsa's Sparkling Ice Castle</td>\n",
       "      <td>2015</td>\n",
       "      <td>687</td>\n",
       "      <td>292</td>\n",
       "      <td>https://cdn.rebrickable.com/media/sets/41062-1...</td>\n",
       "    </tr>\n",
       "    <tr>\n",
       "      <th>3</th>\n",
       "      <td>60134-1</td>\n",
       "      <td>1</td>\n",
       "      <td>People Pack - Fun in the Park</td>\n",
       "      <td>2016</td>\n",
       "      <td>52</td>\n",
       "      <td>159</td>\n",
       "      <td>https://cdn.rebrickable.com/media/sets/60134-1...</td>\n",
       "    </tr>\n",
       "    <tr>\n",
       "      <th>4</th>\n",
       "      <td>41094-1</td>\n",
       "      <td>1</td>\n",
       "      <td>Heartlake Lighthouse</td>\n",
       "      <td>2015</td>\n",
       "      <td>494</td>\n",
       "      <td>475</td>\n",
       "      <td>https://cdn.rebrickable.com/media/sets/41094-1...</td>\n",
       "    </tr>\n",
       "    <tr>\n",
       "      <th>...</th>\n",
       "      <td>...</td>\n",
       "      <td>...</td>\n",
       "      <td>...</td>\n",
       "      <td>...</td>\n",
       "      <td>...</td>\n",
       "      <td>...</td>\n",
       "      <td>...</td>\n",
       "    </tr>\n",
       "    <tr>\n",
       "      <th>59</th>\n",
       "      <td>76389-1</td>\n",
       "      <td>1</td>\n",
       "      <td>Hogwarts Chamber Of Secrets</td>\n",
       "      <td>2021</td>\n",
       "      <td>246</td>\n",
       "      <td>1172</td>\n",
       "      <td>https://cdn.rebrickable.com/media/sets/76389-1...</td>\n",
       "    </tr>\n",
       "    <tr>\n",
       "      <th>60</th>\n",
       "      <td>10293-1</td>\n",
       "      <td>1</td>\n",
       "      <td>Santa's Visit</td>\n",
       "      <td>2021</td>\n",
       "      <td>227</td>\n",
       "      <td>1445</td>\n",
       "      <td>https://cdn.rebrickable.com/media/sets/10293-1...</td>\n",
       "    </tr>\n",
       "    <tr>\n",
       "      <th>61</th>\n",
       "      <td>76397-1</td>\n",
       "      <td>1</td>\n",
       "      <td>Hogwarts Moment: Defence Against the Dark Arts...</td>\n",
       "      <td>2022</td>\n",
       "      <td>246</td>\n",
       "      <td>257</td>\n",
       "      <td>https://cdn.rebrickable.com/media/sets/76397-1...</td>\n",
       "    </tr>\n",
       "    <tr>\n",
       "      <th>62</th>\n",
       "      <td>76408-1</td>\n",
       "      <td>1</td>\n",
       "      <td>12 Grimmauld Place</td>\n",
       "      <td>2022</td>\n",
       "      <td>246</td>\n",
       "      <td>1086</td>\n",
       "      <td>https://cdn.rebrickable.com/media/sets/76408-1...</td>\n",
       "    </tr>\n",
       "    <tr>\n",
       "      <th>63</th>\n",
       "      <td>76406-1</td>\n",
       "      <td>1</td>\n",
       "      <td>Hungarian Horntail Dragon</td>\n",
       "      <td>2022</td>\n",
       "      <td>246</td>\n",
       "      <td>671</td>\n",
       "      <td>https://cdn.rebrickable.com/media/sets/76406-1...</td>\n",
       "    </tr>\n",
       "  </tbody>\n",
       "</table>\n",
       "<p>64 rows × 7 columns</p>\n",
       "</div>"
      ],
      "text/plain": [
       "    set_num  Quantity                                               name  \\\n",
       "0   10698-1         1                           Large Creative Brick Box   \n",
       "1   60002-1         1                                         Fire Truck   \n",
       "2   41062-1         1                        Elsa's Sparkling Ice Castle   \n",
       "3   60134-1         1                      People Pack - Fun in the Park   \n",
       "4   41094-1         1                               Heartlake Lighthouse   \n",
       "..      ...       ...                                                ...   \n",
       "59  76389-1         1                        Hogwarts Chamber Of Secrets   \n",
       "60  10293-1         1                                      Santa's Visit   \n",
       "61  76397-1         1  Hogwarts Moment: Defence Against the Dark Arts...   \n",
       "62  76408-1         1                                 12 Grimmauld Place   \n",
       "63  76406-1         1                          Hungarian Horntail Dragon   \n",
       "\n",
       "    year  theme_id  num_parts  \\\n",
       "0   2015       621        790   \n",
       "1   2013        58        209   \n",
       "2   2015       687        292   \n",
       "3   2016        52        159   \n",
       "4   2015       494        475   \n",
       "..   ...       ...        ...   \n",
       "59  2021       246       1172   \n",
       "60  2021       227       1445   \n",
       "61  2022       246        257   \n",
       "62  2022       246       1086   \n",
       "63  2022       246        671   \n",
       "\n",
       "                                              img_url  \n",
       "0   https://cdn.rebrickable.com/media/sets/10698-1...  \n",
       "1   https://cdn.rebrickable.com/media/sets/60002-1...  \n",
       "2   https://cdn.rebrickable.com/media/sets/41062-1...  \n",
       "3   https://cdn.rebrickable.com/media/sets/60134-1...  \n",
       "4   https://cdn.rebrickable.com/media/sets/41094-1...  \n",
       "..                                                ...  \n",
       "59  https://cdn.rebrickable.com/media/sets/76389-1...  \n",
       "60  https://cdn.rebrickable.com/media/sets/10293-1...  \n",
       "61  https://cdn.rebrickable.com/media/sets/76397-1...  \n",
       "62  https://cdn.rebrickable.com/media/sets/76408-1...  \n",
       "63  https://cdn.rebrickable.com/media/sets/76406-1...  \n",
       "\n",
       "[64 rows x 7 columns]"
      ]
     },
     "execution_count": 45,
     "metadata": {},
     "output_type": "execute_result"
    }
   ],
   "source": [
    "named_sets=pd.merge(r_sets, sets, how='left', on='set_num')\n",
    "named_sets"
   ]
  },
  {
   "cell_type": "markdown",
   "metadata": {
    "azdata_cell_guid": "d45060f3-97bc-484a-9ef4-66145bbe9427"
   },
   "source": [
    "## Visualize\n",
    "\n",
    "Create any visualizations for your EDA here. Make note in the form of code comments of what your thought process is for your visualizations."
   ]
  },
  {
   "cell_type": "code",
   "execution_count": null,
   "metadata": {
    "azdata_cell_guid": "f4565b03-759a-47a8-b58f-01b32a0b4b67"
   },
   "outputs": [],
   "source": []
  },
  {
   "cell_type": "code",
   "execution_count": 19,
   "metadata": {
    "azdata_cell_guid": "cd64bab1-db4c-4295-820d-c6464b653a3e"
   },
   "outputs": [],
   "source": []
  },
  {
   "cell_type": "markdown",
   "metadata": {
    "azdata_cell_guid": "d4931c0c-2c09-4ee1-95d4-73dd08c2f0a6"
   },
   "source": [
    "## Summarize Your Results\n",
    "\n",
    "With your EDA complete, answer the following questions.\n",
    "\n",
    "1. Was there anything surprising about your dataset? \n",
    "2. Do you have any concerns about your dataset? \n",
    "3. Is there anything you want to make note of for the next phase of your analysis, which is cleaning data? "
   ]
  }
 ],
 "metadata": {
  "kernelspec": {
   "display_name": "Python 3 (ipykernel)",
   "language": "python",
   "name": "python3"
  },
  "language_info": {
   "codemirror_mode": {
    "name": "ipython",
    "version": 3
   },
   "file_extension": ".py",
   "mimetype": "text/x-python",
   "name": "python",
   "nbconvert_exporter": "python",
   "pygments_lexer": "ipython3",
   "version": "3.9.12"
  }
 },
 "nbformat": 4,
 "nbformat_minor": 4
}
